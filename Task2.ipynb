{
 "cells": [
  {
   "cell_type": "markdown",
   "metadata": {},
   "source": [
    "# Assignment/Task2\n",
    "\n",
    "Registration id : GO_STP_1585\n"
   ]
  },
  {
   "cell_type": "markdown",
   "metadata": {},
   "source": [
    "1) Is a list mutable? "
   ]
  },
  {
   "cell_type": "markdown",
   "metadata": {},
   "source": [
    "Yes it is mutable,means we can modify it."
   ]
  },
  {
   "cell_type": "code",
   "execution_count": 1,
   "metadata": {},
   "outputs": [
    {
     "name": "stdout",
     "output_type": "stream",
     "text": [
      "Original list :  [1, 2, 3]\n",
      "After Updation :  [1, 2, 4]\n"
     ]
    }
   ],
   "source": [
    "l  =  [1,  2,  3] \n",
    "print(\"Original list : \", l)\n",
    "\n",
    "l[2]  =  4\n",
    "print(\"After Updation : \", l)\n",
    "\n"
   ]
  },
  {
   "cell_type": "markdown",
   "metadata": {},
   "source": [
    "2) Does a list need to be homogeneous?"
   ]
  },
  {
   "cell_type": "markdown",
   "metadata": {},
   "source": [
    " It can be either homogeneous or heterogeneous "
   ]
  },
  {
   "cell_type": "code",
   "execution_count": 2,
   "metadata": {},
   "outputs": [
    {
     "name": "stdout",
     "output_type": "stream",
     "text": [
      "Homogeneous List :  [1, 2, 3, 4, 5]\n",
      "Heterogeneous List :  [1, 'Two', 3, 4, 'five']\n"
     ]
    }
   ],
   "source": [
    "l1 = [1,2,3,4,5]\n",
    "l2  =  [1,\"Two\",3,4,\"five\"]\n",
    "\n",
    "print(\"Homogeneous List : \", l1) \n",
    "print(\"Heterogeneous List : \", l2)\n"
   ]
  },
  {
   "cell_type": "markdown",
   "metadata": {},
   "source": [
    "3. What is the difference between a list and a tuple?\n",
    "\n",
    "-List is mutable\n",
    "-Lists consume more memory\n",
    "-The list is better for performing operations, such as insertion and deletion.\n",
    "\n",
    "-Tuple is immutable\n",
    "-Tuple consume less memory as compared to the list\n",
    "-Tuple data type is appropriate for accessing the elements"
   ]
  },
  {
   "cell_type": "code",
   "execution_count": 4,
   "metadata": {},
   "outputs": [
    {
     "ename": "SyntaxError",
     "evalue": "can't assign to function call (<ipython-input-4-79e9f1b888e1>, line 10)",
     "output_type": "error",
     "traceback": [
      "\u001b[1;36m  File \u001b[1;32m\"<ipython-input-4-79e9f1b888e1>\"\u001b[1;36m, line \u001b[1;32m10\u001b[0m\n\u001b[1;33m    t(0) = 0\u001b[0m\n\u001b[1;37m            ^\u001b[0m\n\u001b[1;31mSyntaxError\u001b[0m\u001b[1;31m:\u001b[0m can't assign to function call\n"
     ]
    }
   ],
   "source": [
    "l  =  [1,  2,  3, 4, 5]\n",
    "t  =  (1,  2,  3, 4, 5)\n",
    "\n",
    "print(\"List : \", l) \n",
    "print(\"Tuple : \", t)\n",
    "\n",
    "l[0]  =  0\n",
    "print(\"After Updation (List) : \", l)\n",
    "\n",
    "t(0) = 0\n",
    "#print(\"After Updation (Tuple) : \", t) ### Error (can't assign to function call\")\n",
    "\n",
    "\n"
   ]
  },
  {
   "cell_type": "markdown",
   "metadata": {},
   "source": [
    "4) How to find the number of elements in the list?"
   ]
  },
  {
   "cell_type": "code",
   "execution_count": 6,
   "metadata": {},
   "outputs": [
    {
     "name": "stdout",
     "output_type": "stream",
     "text": [
      "List :  [1, 2, 3, 4, 5, 6, 7, 8, 9, 10]\n",
      "Length of the list :  10\n"
     ]
    }
   ],
   "source": [
    "#using len function\n",
    "l = [1,2,3,4,5,6,7,8,9,10]\n",
    "print(\"List : \", l)\n",
    "print(\"Length of the list : \", len(l))\n"
   ]
  },
  {
   "cell_type": "markdown",
   "metadata": {},
   "source": [
    "5.How to check whether the list is empty or not?\n"
   ]
  },
  {
   "cell_type": "code",
   "execution_count": 8,
   "metadata": {},
   "outputs": [
    {
     "name": "stdout",
     "output_type": "stream",
     "text": [
      "The list contains something.\n"
     ]
    }
   ],
   "source": [
    "empty_list = [1,2,3,4]\n",
    "if not empty_list:\n",
    "  print('The list is empty!')\n",
    "else:\n",
    "  print('The list contains something.')"
   ]
  },
  {
   "cell_type": "code",
   "execution_count": 9,
   "metadata": {},
   "outputs": [
    {
     "name": "stdout",
     "output_type": "stream",
     "text": [
      "The list is empty!\n"
     ]
    }
   ],
   "source": [
    "empty_list = []\n",
    "if not empty_list:\n",
    "  print('The list is empty!')\n",
    "else:\n",
    "  print('The list contains something.')"
   ]
  },
  {
   "cell_type": "markdown",
   "metadata": {},
   "source": [
    "6.How to find the first and last element of the list?\n",
    "\n"
   ]
  },
  {
   "cell_type": "code",
   "execution_count": 10,
   "metadata": {},
   "outputs": [
    {
     "name": "stdout",
     "output_type": "stream",
     "text": [
      "First element: 1\n",
      "Last element: 5\n"
     ]
    }
   ],
   "source": [
    "l = [1,2,3,4,5]\n",
    "\n",
    "print(\"First element:\",l[0])\n",
    "print(\"Last element:\",l[-1])"
   ]
  },
  {
   "cell_type": "markdown",
   "metadata": {},
   "source": [
    "7) How to find the largest and lowest value in the list"
   ]
  },
  {
   "cell_type": "code",
   "execution_count": 12,
   "metadata": {},
   "outputs": [
    {
     "name": "stdout",
     "output_type": "stream",
     "text": [
      "Maximum element: 5\n",
      "Minimum element: 1\n"
     ]
    }
   ],
   "source": [
    "l = [1,2,3,4,5]\n",
    "\n",
    "print(\"Maximum element:\",max(l))\n",
    "print(\"Minimum element:\",min(l))"
   ]
  },
  {
   "cell_type": "markdown",
   "metadata": {},
   "source": [
    "8) How to access elements of the list?"
   ]
  },
  {
   "cell_type": "code",
   "execution_count": 16,
   "metadata": {},
   "outputs": [
    {
     "name": "stdout",
     "output_type": "stream",
     "text": [
      "to access any particular  element  of  the  List  :   2\n",
      "last fifth element of the List :  6\n",
      "Elements  from  4th  index  to  Last  index [5, 6, 7, 8, 9, 10]\n",
      "Elements  from  0  index  to  3rd  index [1, 2, 3]\n"
     ]
    }
   ],
   "source": [
    "#use indexing or slicing method\n",
    "l=[1,2,3,4,5,6,7,8,9,10]\n",
    "print(\"to access any particular  element  of  the  List  :  \",  l[1]) \n",
    "print(\"last fifth element of the List : \", l[-5])\n",
    "\n",
    "print(\"Elements  from  4th  index  to  Last  index\",  l[4:]) \n",
    "print(\"Elements  from  0  index  to  3rd  index\",  l[0:3])\n"
   ]
  },
  {
   "cell_type": "markdown",
   "metadata": {},
   "source": [
    "9) Remove elements in a list before a specific index\n",
    "\n"
   ]
  },
  {
   "cell_type": "code",
   "execution_count": 18,
   "metadata": {},
   "outputs": [
    {
     "name": "stdout",
     "output_type": "stream",
     "text": [
      "list: [1, 2, 3, 4, 5, 6, 7, 8, 9, 10]\n",
      "Specify the Index : 3\n",
      "List after Deletion :  [4, 5, 6, 7, 8, 9, 10]\n"
     ]
    }
   ],
   "source": [
    "l=[1,2,3,4,5,6,7,8,9,10]\n",
    "print(\"list:\",l)\n",
    "i = int(input(\"Specify the Index : \")) \n",
    "del  l[0  :i]\n",
    "\n",
    "print(\"List after Deletion : \", l)\n"
   ]
  },
  {
   "cell_type": "markdown",
   "metadata": {},
   "source": [
    "10) Remove elements in a list between 2 indices"
   ]
  },
  {
   "cell_type": "code",
   "execution_count": 20,
   "metadata": {},
   "outputs": [
    {
     "name": "stdout",
     "output_type": "stream",
     "text": [
      "list: [1, 2, 3, 4, 5, 6, 7, 8, 9, 10]\n",
      "Specify the first Index : 2\n",
      "Specify the last Index : 5\n",
      "List after deleting:  [1, 2, 6, 7, 8, 9, 10]\n"
     ]
    }
   ],
   "source": [
    "l=[1,2,3,4,5,6,7,8,9,10]\n",
    "print(\"list:\",l)\n",
    "i = int(input(\"Specify the first Index : \"))\n",
    "ls = int(input(\"Specify the last Index : \"))\n",
    "del  l[i:ls]\n",
    "print(\"List after deleting: \",l)"
   ]
  },
  {
   "cell_type": "markdown",
   "metadata": {},
   "source": [
    "11) Return every 2nd element in a list between 2 indices\n",
    "\n"
   ]
  },
  {
   "cell_type": "code",
   "execution_count": 21,
   "metadata": {},
   "outputs": [
    {
     "name": "stdout",
     "output_type": "stream",
     "text": [
      "list: [1, 2, 3, 4, 5, 6, 7, 8, 9, 10]\n",
      "Specify the first Index : 1\n",
      "Specify the last Index : 8\n",
      "List after deleting:  [1, 3, 5, 7, 9, 10]\n"
     ]
    }
   ],
   "source": [
    "l=[1,2,3,4,5,6,7,8,9,10]\n",
    "print(\"list:\",l)\n",
    "i = int(input(\"Specify the first Index : \"))\n",
    "ls = int(input(\"Specify the last Index : \"))\n",
    "del  l[i:ls:2]\n",
    "print(\"List after deleting: \",l)"
   ]
  },
  {
   "cell_type": "markdown",
   "metadata": {},
   "source": [
    "12) Get the first element from each nested list in a list"
   ]
  },
  {
   "cell_type": "code",
   "execution_count": 22,
   "metadata": {},
   "outputs": [
    {
     "name": "stdout",
     "output_type": "stream",
     "text": [
      "1\n",
      "rutvi\n",
      "90\n"
     ]
    }
   ],
   "source": [
    "nl  =  [[1,  2,  3],  [\"rutvi\",\"rutva\",\"suchi\"],  [90,80,70]] \n",
    "for i in nl:\n",
    "    print(i[0])\n",
    "\n"
   ]
  },
  {
   "cell_type": "markdown",
   "metadata": {},
   "source": [
    "13) How to modify elements of the list?"
   ]
  },
  {
   "cell_type": "code",
   "execution_count": 24,
   "metadata": {},
   "outputs": [
    {
     "name": "stdout",
     "output_type": "stream",
     "text": [
      "['Hiii', 2, 3, 4, 5]\n",
      "['Hiii', 2, 3, 4, 'Hello', 5]\n",
      "['Hiii', 2, 3, 'Hello', 5]\n",
      "['Hiii', 2, 3, 'Hello']\n"
     ]
    }
   ],
   "source": [
    "l  =  [1,2,3,4,5] \n",
    "l[0]  =  \"Hiii\"\n",
    "print(l)\n",
    "\n",
    "l.insert(4,  \"Hello\") \n",
    "print(l)\n",
    "\n",
    "l.remove(4) \n",
    "print(l)\n",
    "\n",
    "l.pop() \n",
    "print(l)\n"
   ]
  },
  {
   "cell_type": "markdown",
   "metadata": {},
   "source": [
    "14) How to concatenate two lists?"
   ]
  },
  {
   "cell_type": "code",
   "execution_count": 25,
   "metadata": {},
   "outputs": [
    {
     "name": "stdout",
     "output_type": "stream",
     "text": [
      "[4, 5, 6, 1, 'Two', 3, 4, 'five']\n"
     ]
    }
   ],
   "source": [
    "l=[1,2,3]\n",
    "l1=[4,5,6]\n",
    "print(l1+l2)"
   ]
  },
  {
   "cell_type": "markdown",
   "metadata": {},
   "source": [
    "15) How to add two lists element-wise in python?"
   ]
  },
  {
   "cell_type": "code",
   "execution_count": 26,
   "metadata": {},
   "outputs": [
    {
     "name": "stdout",
     "output_type": "stream",
     "text": [
      "Sum of elements of two Lists :  [5, 7, 9]\n"
     ]
    }
   ],
   "source": [
    "l=[1,2,3]\n",
    "l1=[4,5,6]\n",
    "ans = []\n",
    "for  i  in  range(0,  len(l1)): \n",
    "    sum = l[i] + l1[i]\n",
    "    ans.append(sum)\n",
    "print(\"Sum of elements of two Lists : \", ans)\n"
   ]
  },
  {
   "cell_type": "markdown",
   "metadata": {},
   "source": [
    "16) Difference between del and clear?"
   ]
  },
  {
   "cell_type": "code",
   "execution_count": 27,
   "metadata": {},
   "outputs": [],
   "source": [
    "#del keyword is used to delete a particular element. The clear( ) function is used to delete all the elements."
   ]
  },
  {
   "cell_type": "code",
   "execution_count": 28,
   "metadata": {},
   "outputs": [
    {
     "name": "stdout",
     "output_type": "stream",
     "text": [
      "[1, 2]\n",
      "[]\n"
     ]
    }
   ],
   "source": [
    "l=[1,2,3]\n",
    "l1=[4,5,6]\n",
    "del  l[2] \n",
    "print(l)\n",
    "\n",
    "l1.clear() \n",
    "print(l1)\n",
    "\n"
   ]
  },
  {
   "cell_type": "markdown",
   "metadata": {},
   "source": [
    "17) Difference between remove and pop?"
   ]
  },
  {
   "cell_type": "markdown",
   "metadata": {},
   "source": [
    " remove is used to remove the element we need whereas pop deletes the value at particular index and returns the deleted value "
   ]
  },
  {
   "cell_type": "code",
   "execution_count": 30,
   "metadata": {},
   "outputs": [
    {
     "name": "stdout",
     "output_type": "stream",
     "text": [
      "[50, 60, 70, 80, 90]\n",
      "90\n",
      "60\n"
     ]
    }
   ],
   "source": [
    "l1=  [50,60,70,80,88,90]\n",
    "l1.remove(88) \n",
    "print(l1)\n",
    "\n",
    "print(l1.pop()) # returns last element\n",
    " \n",
    "\n",
    "print(l1.pop(1))\n"
   ]
  },
  {
   "cell_type": "markdown",
   "metadata": {},
   "source": [
    "18) Difference between append and extend?"
   ]
  },
  {
   "cell_type": "markdown",
   "metadata": {},
   "source": [
    "append adds an element to the list whereas the extend concatenates to the list   "
   ]
  },
  {
   "cell_type": "code",
   "execution_count": 31,
   "metadata": {},
   "outputs": [
    {
     "name": "stdout",
     "output_type": "stream",
     "text": [
      "[50, 60, 70, 80, 88, 90, 55]\n",
      "[50, 60, 70, 80, 88, 90, 55, 92, 94, 95, 98]\n"
     ]
    }
   ],
   "source": [
    "l1=  [50,60,70,80,88,90]\n",
    "l1.append(55) \n",
    "print(l1)\n",
    "\n",
    "l1.extend([92,94,95,98])\n",
    "print(l1)\n"
   ]
  },
  {
   "cell_type": "markdown",
   "metadata": {},
   "source": [
    "19) Difference between indexing and Slicing?"
   ]
  },
  {
   "cell_type": "markdown",
   "metadata": {},
   "source": [
    "Indexing  can refer  to  an  element and  through Slicing we can get subset  of  elements "
   ]
  },
  {
   "cell_type": "code",
   "execution_count": 32,
   "metadata": {},
   "outputs": [
    {
     "name": "stdout",
     "output_type": "stream",
     "text": [
      "40\n",
      "[20, 30]\n"
     ]
    }
   ],
   "source": [
    "l1  =  [10,20,30,40,50]\n",
    "print(l1[3])\n",
    "print(l1[1:3])\n"
   ]
  },
  {
   "cell_type": "markdown",
   "metadata": {},
   "source": [
    "20) Difference between sort and sorted?"
   ]
  },
  {
   "cell_type": "markdown",
   "metadata": {},
   "source": [
    "difference between the list sort() function and the sorted() function is that the sort() function will modify the list it is called on. The sorted() function will create a new list containing a sorted version of the list it is given"
   ]
  },
  {
   "cell_type": "code",
   "execution_count": 6,
   "metadata": {},
   "outputs": [
    {
     "name": "stdout",
     "output_type": "stream",
     "text": [
      "[1, 2, 5, 6, 9, 10]\n",
      "list:  [10, 5, 2, 9, 6, 1]\n",
      "[1, 2, 5, 6, 9, 10]\n"
     ]
    }
   ],
   "source": [
    "l1  =  [10,5,2,9,6,1]\n",
    "print(sorted(l1))\n",
    "print(\"list: \",l1)\n",
    "\n",
    "l1.sort()\n",
    "print(l1)"
   ]
  },
  {
   "cell_type": "markdown",
   "metadata": {},
   "source": [
    "21) Difference between reverse and reversed?"
   ]
  },
  {
   "cell_type": "markdown",
   "metadata": {},
   "source": [
    "reverse() actually reverses the elements in the container. reversed() doesn't actually reverse anything, it merely returns an object that can be used to iterate over the container's elements in reverse order."
   ]
  },
  {
   "cell_type": "code",
   "execution_count": 11,
   "metadata": {},
   "outputs": [
    {
     "name": "stdout",
     "output_type": "stream",
     "text": [
      "<list_reverseiterator object at 0x000001ECD2A99E08>\n",
      "list:  [1, 2, 5, 6, 9, 10]\n",
      "[1, 6, 9, 2, 5, 10]\n"
     ]
    }
   ],
   "source": [
    "l  =  [10,5,2,9,6,1]\n",
    "print(reversed(l))\n",
    "print(\"list: \",l1)\n",
    "\n",
    "l.reverse()\n",
    "print(l)"
   ]
  },
  {
   "cell_type": "markdown",
   "metadata": {},
   "source": [
    "22) Difference between copy and deepcopy?"
   ]
  },
  {
   "cell_type": "markdown",
   "metadata": {},
   "source": [
    "A shallow copy constructs a new compound object and then (to the extent possible) inserts references into it to the objects found in the original. A deep copy constructs a new compound object and then, recursively, inserts copies into it of the objects found in the original."
   ]
  },
  {
   "cell_type": "code",
   "execution_count": 13,
   "metadata": {},
   "outputs": [
    {
     "name": "stdout",
     "output_type": "stream",
     "text": [
      "[1, 2, [3, 4], 5]\n",
      "[1, 2, [3, 88], 5]\n",
      "[1, 2, [3, 88], 5, 6]\n"
     ]
    }
   ],
   "source": [
    "import copy\n",
    "\n",
    "l1  =  [1,  2,  [3,4],  5]\n",
    "\n",
    "l2 = l1.copy() # appending of elements not possible\n",
    "l3 = copy.deepcopy(l1) # remains same as the initial one (Any changes does not affect)\n",
    "\n",
    "l1.append(6) \n",
    "l1[2][1]  =  88\n",
    "\n",
    "print(l3) \n",
    "print(l2) \n",
    "print(l1)\n"
   ]
  },
  {
   "cell_type": "markdown",
   "metadata": {},
   "source": [
    "23) How to remove duplicate elements in the list?"
   ]
  },
  {
   "cell_type": "code",
   "execution_count": 19,
   "metadata": {},
   "outputs": [
    {
     "name": "stdout",
     "output_type": "stream",
     "text": [
      "The original list is : [1, 5, 3, 6, 3, 5, 6, 1]\n",
      "The list after removing duplicates : [1, 3, 5, 6]\n"
     ]
    }
   ],
   "source": [
    "\n",
    "test_list = [1, 5, 3, 6, 3, 5, 6, 1]\n",
    "print (\"The original list is : \" + str(test_list))\n",
    "\n",
    "\n",
    "test_list = list(set(test_list))\n",
    "\n",
    "print (\"The list after removing duplicates : \" + str(test_list))\n"
   ]
  },
  {
   "cell_type": "markdown",
   "metadata": {},
   "source": [
    "24) How to find an index of an element in the python list?"
   ]
  },
  {
   "cell_type": "code",
   "execution_count": 21,
   "metadata": {},
   "outputs": [
    {
     "name": "stdout",
     "output_type": "stream",
     "text": [
      "Index of 88 is :  4\n"
     ]
    }
   ],
   "source": [
    "x  =  [1,2,3,4,5]\n",
    "\n",
    "print(\"Index of 88 is : \", x.index(5)) "
   ]
  },
  {
   "cell_type": "markdown",
   "metadata": {},
   "source": [
    "25) How to find the occurrences of an element in the python list?"
   ]
  },
  {
   "cell_type": "code",
   "execution_count": 22,
   "metadata": {},
   "outputs": [
    {
     "name": "stdout",
     "output_type": "stream",
     "text": [
      "8 has occurred 5 times\n"
     ]
    }
   ],
   "source": [
    "# Python code to count the number of occurrences\n",
    "def countX(lst, x):\n",
    "    count = 0\n",
    "    for ele in lst:\n",
    "        if (ele == x):\n",
    "            count = count + 1\n",
    "    return count\n",
    "\n",
    "# Driver Code\n",
    "lst = [8, 6, 8, 10, 8, 20, 10, 8, 8]\n",
    "x = 8\n",
    "print('{} has occurred {} times'.format(x, countX(lst, x)))\n"
   ]
  },
  {
   "cell_type": "markdown",
   "metadata": {},
   "source": [
    "26) How to insert an item at a given position?"
   ]
  },
  {
   "cell_type": "code",
   "execution_count": 24,
   "metadata": {},
   "outputs": [
    {
     "name": "stdout",
     "output_type": "stream",
     "text": [
      "[8, 6, 8, 10, 8, 20, 10, 8, 8, 14]\n"
     ]
    }
   ],
   "source": [
    "lst = [8, 6, 8, 10, 8, 20, 10, 8, 8]\n",
    "val = 14\n",
    "i=9\n",
    "lst.insert(i, val)\n",
    "print(lst)"
   ]
  },
  {
   "cell_type": "markdown",
   "metadata": {},
   "source": [
    "27) How to check if an item is in the list?"
   ]
  },
  {
   "cell_type": "code",
   "execution_count": 25,
   "metadata": {},
   "outputs": [
    {
     "name": "stdout",
     "output_type": "stream",
     "text": [
      "Enter an item to check : 10\n",
      "Item found in the List at Index :  3\n"
     ]
    }
   ],
   "source": [
    "l = [8, 6, 8, 10, 8, 20, 10, 8, 8]\n",
    "item = int(input(\"Enter an item to check : \")) \n",
    "if item in l :\n",
    "    print(\"Item found in the List at Index : \", l.index(item)) \n",
    "else :\n",
    "    print(\"Item not found :\")\n"
   ]
  },
  {
   "cell_type": "markdown",
   "metadata": {},
   "source": [
    "28) How to flatten a list in python?"
   ]
  },
  {
   "cell_type": "code",
   "execution_count": 26,
   "metadata": {},
   "outputs": [
    {
     "name": "stdout",
     "output_type": "stream",
     "text": [
      "After Flattening :  [9, 8, 7, 6, 5, 4, 3, 2, 1]\n"
     ]
    }
   ],
   "source": [
    "import numpy as np\n",
    "\n",
    "x  =  [[9,  8,  7],  [6,  5,  4],  [3,  2,  1]]\n",
    "\n",
    "x1 = np.array(x).ravel()\n",
    "\n",
    "print(\"After Flattening : \", list(x1))\n",
    "\n"
   ]
  },
  {
   "cell_type": "markdown",
   "metadata": {},
   "source": [
    "29) How to convert python list to other data structures like set, tuple, dictionary?"
   ]
  },
  {
   "cell_type": "code",
   "execution_count": 27,
   "metadata": {},
   "outputs": [
    {
     "name": "stdout",
     "output_type": "stream",
     "text": [
      "After converting to Set :  {8, 10, 20, 6}\n",
      "After converting to tuple :  (8, 6, 8, 10, 8, 20, 10, 8, 8)\n"
     ]
    }
   ],
   "source": [
    "l = [8, 6, 8, 10, 8, 20, 10, 8, 8]\n",
    "print(\"After converting to Set : \", set(l))\n",
    "print(\"After converting to tuple : \", tuple(l))\n"
   ]
  },
  {
   "cell_type": "code",
   "execution_count": 29,
   "metadata": {},
   "outputs": [
    {
     "name": "stdout",
     "output_type": "stream",
     "text": [
      "{'a': 5, 'b': 4, 'c': 3, 'd': 4, 'e': 5}\n"
     ]
    }
   ],
   "source": [
    "list_dic  =  [\"a\",  5,  \"b\",  4,  \"c\",  3,  \"d\",  4,  \"e\",  5] \n",
    "dic = {}\n",
    "\n",
    "for  i  in  range  (0,  len(list_dic),  2): \n",
    "    dic[list_dic[i]]  =  list_dic[i+1]\n",
    "print(dic)\n"
   ]
  },
  {
   "cell_type": "markdown",
   "metadata": {},
   "source": [
    "30) How to apply a function to all items in the list?"
   ]
  },
  {
   "cell_type": "code",
   "execution_count": 30,
   "metadata": {},
   "outputs": [
    {
     "name": "stdout",
     "output_type": "stream",
     "text": [
      "['A', 'B', 'C']\n"
     ]
    }
   ],
   "source": [
    "a_list = [\"a\", \"b\", \"c\"]\n",
    "\n",
    "map_object = map(str.upper, a_list)\n",
    "#capitalize each letter\n",
    "\n",
    "new_list = list(map_object)\n",
    "\n",
    "print(new_list)"
   ]
  },
  {
   "cell_type": "markdown",
   "metadata": {},
   "source": [
    "31) How to filter the elements based on a function in a python list?"
   ]
  },
  {
   "cell_type": "code",
   "execution_count": 31,
   "metadata": {},
   "outputs": [
    {
     "name": "stdout",
     "output_type": "stream",
     "text": [
      "The filtered vowels are:\n",
      "a\n",
      "e\n",
      "i\n",
      "o\n"
     ]
    }
   ],
   "source": [
    "# list of letters\n",
    "letters = ['a', 'b', 'd', 'e', 'i', 'j', 'o']\n",
    "\n",
    "# function that filters vowels\n",
    "def filter_vowels(letter):\n",
    "    vowels = ['a', 'e', 'i', 'o', 'u']\n",
    "\n",
    "    if(letter in vowels):\n",
    "        return True\n",
    "    else:\n",
    "        return False\n",
    "\n",
    "filtered_vowels = filter(filter_vowels, letters)\n",
    "\n",
    "print('The filtered vowels are:')\n",
    "for vowel in filtered_vowels:\n",
    "    print(vowel)"
   ]
  },
  {
   "cell_type": "markdown",
   "metadata": {},
   "source": [
    "32) How python lists are stored in memory?"
   ]
  },
  {
   "cell_type": "markdown",
   "metadata": {},
   "source": [
    "Lists, then, are stored in distinct chunks of memory which are linked together with pointers, which enables efficient use of memory generally and doesn't require resizing. "
   ]
  },
  {
   "cell_type": "code",
   "execution_count": null,
   "metadata": {},
   "outputs": [],
   "source": []
  }
 ],
 "metadata": {
  "kernelspec": {
   "display_name": "Python 3",
   "language": "python",
   "name": "python3"
  },
  "language_info": {
   "codemirror_mode": {
    "name": "ipython",
    "version": 3
   },
   "file_extension": ".py",
   "mimetype": "text/x-python",
   "name": "python",
   "nbconvert_exporter": "python",
   "pygments_lexer": "ipython3",
   "version": "3.7.4"
  }
 },
 "nbformat": 4,
 "nbformat_minor": 4
}
