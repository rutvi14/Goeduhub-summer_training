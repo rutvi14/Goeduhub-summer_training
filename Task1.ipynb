{
 "cells": [
  {
   "cell_type": "markdown",
   "metadata": {},
   "source": [
    "# Assignment/Task 1\n",
    "Reg NO : GO_STP_1585\n",
    "\n",
    "1. We are having 3 list like this\n",
    "\n",
    "Colors = [“Yellow”,”Green”,”White”,”Black”] Fruits=[“Apple”,”Papaya”,”Mango”,”Orange”] Animals=[“Tiger”,”Lion”,”Deer”,”Zebra”]\n",
    "\n",
    "i. Write a program that asks user to enter a Color/Fruit/Animal name and it should tell which category belongs to , like its is a fruit or color or Animal\n",
    "\n",
    "ii. Write a program that asks user to enter two cities and it tells you if they both are in same country or not. For example if I enter yellow and Black, it will print \"Both are colors\" but if I enter yellow and Tiger it should print \"They don't belong to same category\""
   ]
  },
  {
   "cell_type": "code",
   "execution_count": 1,
   "metadata": {},
   "outputs": [
    {
     "name": "stdout",
     "output_type": "stream",
     "text": [
      "deer\n",
      "Animal\n"
     ]
    }
   ],
   "source": [
    "Colors = [\"Yellow\",\"Green\",\"White\",\"Black\"]\n",
    "\n",
    "Fruits=[\"Apple\",\"Papaya\",\"Mango\",\"Orange\"]\n",
    "\n",
    "Animals=[\"Tiger\",\"Lion\",\"Deer\",\"Zebra\"]\n",
    "\n",
    "ip=input().capitalize()\n",
    "\n",
    "if ip in Colors: #Is it available in colors list\n",
    "  print(\"Color\")\n",
    "elif ip in Fruits: #Is it available in fruits list\n",
    "  print(\"Fruit\")\n",
    "elif ip in Animals: #Is it available in animals list\n",
    "  print(\"Animal\")\n",
    "else:\n",
    "  print(\"It doesnt belong to any category\")"
   ]
  },
  {
   "cell_type": "code",
   "execution_count": 2,
   "metadata": {},
   "outputs": [
    {
     "name": "stdout",
     "output_type": "stream",
     "text": [
      "Enter your first input: yellow\n",
      "Enter your second input: deer\n",
      "both are in different categories\n"
     ]
    }
   ],
   "source": [
    "ip1 = input(\"Enter your first input: \").capitalize()\n",
    "ip2 = input(\"Enter your second input: \").capitalize()\n",
    "if ip1 in Colors and ip2 in Colors:\n",
    "    print(\"Both are in same category-Colors\")\n",
    "elif ip1 in Fruits and ip2 in Fruits:\n",
    "    print(\"Both are in same category-Fruits\")\n",
    "elif ip1 in Animals and ip2 in Animals:\n",
    "    print(\"Both are in same category-Animals\")\n",
    "else:\n",
    "    print(\"both are in different categories\")"
   ]
  },
  {
   "cell_type": "markdown",
   "metadata": {},
   "source": [
    " 2.Write a python program that can tell you if your grade score good or not . Normal Score range is 40 to 60.\n",
    "\n",
    "i. Ask user to enter his score.\n",
    "\n",
    "ii. If it is below 40 to 60 range then print that score is low\n",
    "\n",
    "iii. If it is above 60 then print that it is good otherwise print that it is normal"
   ]
  },
  {
   "cell_type": "code",
   "execution_count": 3,
   "metadata": {},
   "outputs": [
    {
     "name": "stdout",
     "output_type": "stream",
     "text": [
      "Enter your score: 90\n",
      "good\n"
     ]
    }
   ],
   "source": [
    "score=int(input(\"Enter your score: \"))\n",
    "if score<40:\n",
    "    print(\"low\")\n",
    "elif score>60:\n",
    "    print(\"good\")\n",
    "else:\n",
    "    print(\"normal\")"
   ]
  },
  {
   "cell_type": "markdown",
   "metadata": {},
   "source": [
    "3. After appearing in exam 10 times you got this result,\n",
    "\n",
    "result = [\"Pass\",\"Fail\",\"Fail\",\"Pass\",\"Fail\",\"Pass\",\"Pass\",\"Fail\",\"Fail\",\"Fail\"]\n",
    "\n",
    "Using for loop figure out how many times you got Pass"
   ]
  },
  {
   "cell_type": "code",
   "execution_count": 4,
   "metadata": {},
   "outputs": [
    {
     "name": "stdout",
     "output_type": "stream",
     "text": [
      "Numer of times you passed : 4\n"
     ]
    }
   ],
   "source": [
    "result = [\"Pass\",\"Fail\",\"Fail\",\"Pass\",\"Fail\",\"Pass\",\"Pass\",\"Fail\",\"Fail\",\"Fail\"]\n",
    "p=0\n",
    "for i in result:\n",
    "    if i=='Pass':\n",
    "        p=p+1\n",
    "print(\"Numer of times you passed :\",p)"
   ]
  },
  {
   "cell_type": "markdown",
   "metadata": {},
   "source": [
    "4. Write a program that prints following shape"
   ]
  },
  {
   "cell_type": "code",
   "execution_count": 5,
   "metadata": {},
   "outputs": [
    {
     "name": "stdout",
     "output_type": "stream",
     "text": [
      "* \n",
      "\n",
      "* * \n",
      "\n",
      "* * * \n",
      "\n",
      "* * * * \n",
      "\n",
      "* * * * * \n",
      "\n",
      "* * * * \n",
      "\n",
      "* * * \n",
      "\n",
      "* * \n",
      "\n",
      "* \n",
      "\n"
     ]
    }
   ],
   "source": [
    "for i in range(1,6): #it will loop upto 1...5\n",
    "  for i in range(i):\n",
    "    print(\"*\",end=\" \")\n",
    "  print(\"\\n\")\n",
    "for i in range(4,0,-1): #for reverse pattern till 0\n",
    "  for i in range(i):\n",
    "    print(\"*\",end=\" \")\n",
    "  print(\"\\n\")"
   ]
  },
  {
   "cell_type": "markdown",
   "metadata": {},
   "source": [
    "5. Lets say you are running a 50 km race. Write a program that,\n",
    "\n",
    "Upon completing each 10 km asks you \"are you tired?\" If you reply \"yes\" then it should break and print \"you didn't finish the race\" If you reply \"no\" then it should continue and ask \"are you tired\" on every km If you finish all 50 km then it should print congratulations message"
   ]
  },
  {
   "cell_type": "code",
   "execution_count": 6,
   "metadata": {},
   "outputs": [
    {
     "name": "stdout",
     "output_type": "stream",
     "text": [
      "Are you tired?? (yes or no) :  no\n",
      "Are you tired?? (yes or no) :  yes\n",
      "you didn't finish the race\n"
     ]
    }
   ],
   "source": [
    "for i in range(0,51): #0-start 50 -end 10-steps\n",
    "  if i%10 == 0 and i<50:\n",
    "    in1=input(\"Are you tired?? (yes or no) :  \").lower()\n",
    "    if in1 ==\"yes\":\n",
    "      print(\"you didn't finish the race\")\n",
    "      break\n",
    "    elif in1 ==\"no\":\n",
    "      continue\n",
    "    else:\n",
    "      print(\"invalid input\")\n",
    "  if i==50:\n",
    "    print(\"congratulations you have finished the race\")\n",
    "    "
   ]
  },
  {
   "cell_type": "markdown",
   "metadata": {},
   "source": [
    "6. Write a Python program to find those numbers which are divisible by 7 and multiple of 5, between 1500 and 2700 (both included)."
   ]
  },
  {
   "cell_type": "code",
   "execution_count": 7,
   "metadata": {},
   "outputs": [
    {
     "name": "stdout",
     "output_type": "stream",
     "text": [
      "1505, 1540, 1575, 1610, 1645, 1680, 1715, 1750, 1785, 1820, 1855, 1890, 1925, 1960, 1995, 2030, 2065, 2100, 2135, 2170, 2205, 2240, 2275, 2310, 2345, 2380, 2415, 2450, 2485, 2520, 2555, 2590, 2625, 2660, 2695, "
     ]
    }
   ],
   "source": [
    "for i in range(1500,2701):\n",
    "  if i%5==0 and i%7==0:\n",
    "    print(i,end = \", \")"
   ]
  },
  {
   "cell_type": "markdown",
   "metadata": {},
   "source": [
    "7. Print square of all numbers between 10 to 20 except even numbers"
   ]
  },
  {
   "cell_type": "code",
   "execution_count": 8,
   "metadata": {},
   "outputs": [
    {
     "name": "stdout",
     "output_type": "stream",
     "text": [
      "121\n",
      "169\n",
      "225\n",
      "289\n",
      "361\n"
     ]
    }
   ],
   "source": [
    "for i in range(10,21):\n",
    "    if i%2!=0:\n",
    "        print(i**2)"
   ]
  },
  {
   "cell_type": "markdown",
   "metadata": {},
   "source": [
    "8. Your Marks for five Test(test1 to test5) looks like this,\n",
    "\n",
    "marks_list = [65, 75, 2100, 95, 83]\n",
    "\n",
    "Write a program that asks you to enter marks and program should tell you in which test that marks occurred. If marks is not found then it should print that as well."
   ]
  },
  {
   "cell_type": "code",
   "execution_count": 9,
   "metadata": {},
   "outputs": [
    {
     "name": "stdout",
     "output_type": "stream",
     "text": [
      "Enter marks: 95\n",
      "Marks found at 3\n"
     ]
    }
   ],
   "source": [
    "marks_list = [65, 75, 2100, 95, 83]\n",
    "marks= int(input(\"Enter marks: \"))\n",
    "if marks in marks_list:\n",
    "    print(\"Marks found at\",marks_list.index(marks))\n",
    "else:\n",
    "    print(\"Marks not found\")"
   ]
  },
  {
   "cell_type": "code",
   "execution_count": null,
   "metadata": {},
   "outputs": [],
   "source": []
  }
 ],
 "metadata": {
  "kernelspec": {
   "display_name": "Python 3",
   "language": "python",
   "name": "python3"
  },
  "language_info": {
   "codemirror_mode": {
    "name": "ipython",
    "version": 3
   },
   "file_extension": ".py",
   "mimetype": "text/x-python",
   "name": "python",
   "nbconvert_exporter": "python",
   "pygments_lexer": "ipython3",
   "version": "3.7.4"
  }
 },
 "nbformat": 4,
 "nbformat_minor": 4
}
