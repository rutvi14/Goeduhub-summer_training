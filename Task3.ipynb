{
 "cells": [
  {
   "cell_type": "markdown",
   "metadata": {},
   "source": [
    "# Task3\n",
    "\n",
    "ID : GO_STP_1585"
   ]
  },
  {
   "cell_type": "markdown",
   "metadata": {},
   "source": [
    "Q.1 Write a Python Program to sort (ascending and descending) a dictionary by value."
   ]
  },
  {
   "cell_type": "code",
   "execution_count": 2,
   "metadata": {},
   "outputs": [
    {
     "name": "stdout",
     "output_type": "stream",
     "text": [
      "{'Harshil': 19, 'Rutvi': 20, 'Aman': 21, 'kuldeep': 23, 'rutva': 23}\n",
      "{'rutva': 23, 'kuldeep': 23, 'Aman': 21, 'Rutvi': 20, 'Harshil': 19}\n"
     ]
    }
   ],
   "source": [
    "dic = {\"Rutvi\":20, \"Harshil\": 19, \"Aman\": 21, \"kuldeep\": 23, \"rutva\":23}\n",
    "asc = sorted(dic.items(), key=lambda x:x[1])\n",
    "print(dict(asc))\n",
    "asc.reverse()\n",
    "print(dict(asc))"
   ]
  },
  {
   "cell_type": "markdown",
   "metadata": {},
   "source": [
    "Q.2 Write a Python Program to add a key to a dictionary.\n",
    "\n",
    "Sample Dictionary : {0: 10, 1: 20}\n",
    "Expected Result : {0: 10, 1: 20, 2: 30}"
   ]
  },
  {
   "cell_type": "code",
   "execution_count": 3,
   "metadata": {},
   "outputs": [
    {
     "data": {
      "text/plain": [
       "{0: 10, 1: 20, 2: 30}"
      ]
     },
     "execution_count": 3,
     "metadata": {},
     "output_type": "execute_result"
    }
   ],
   "source": [
    "dic = {0: 10, 1: 20}\n",
    "dic[2]= 30\n",
    "dic"
   ]
  },
  {
   "cell_type": "markdown",
   "metadata": {},
   "source": [
    "Q.3 Write a program asks for City name and Temperature and builds a dictionary using that Later on you can input City name and it will tell you the Temperature of that City."
   ]
  },
  {
   "cell_type": "code",
   "execution_count": 4,
   "metadata": {},
   "outputs": [
    {
     "name": "stdout",
     "output_type": "stream",
     "text": [
      "city : ahmedabad\n",
      "temp : 42\n",
      "city : kerala\n",
      "temp : 38\n",
      "city : maharashtra\n",
      "temp : 46\n",
      "{'ahmedabad': 42, 'kerala': 38, 'maharashtra': 46}\n"
     ]
    },
    {
     "data": {
      "text/plain": [
       "42"
      ]
     },
     "execution_count": 4,
     "metadata": {},
     "output_type": "execute_result"
    }
   ],
   "source": [
    "d={}\n",
    "for i in range(3):\n",
    "  c=input(\"city : \")\n",
    "  d[c]=int(input(\"temp : \"))\n",
    "print(d)\n",
    "d['ahmedabad']"
   ]
  },
  {
   "cell_type": "markdown",
   "metadata": {},
   "source": [
    "Q. 4 Write a Python program to convert list to list of dictionaries.\n",
    "\n",
    "Sample lists: [\"Black\", \"Red\", \"Maroon\", \"Yellow\"], [\"#000000\", \"#FF0000\", \"#800000\", \"#FFFF00\"]\n",
    "\n",
    "Expected Output: [{'color_name': 'Black', 'color_code': '#000000'}, {'color_name': 'Red', 'color_code': '#FF0000'}, {'color_name': 'Maroon', 'color_code': '#800000'}, {'color_name': 'Yellow', 'color_code': '#FFFF00'}]"
   ]
  },
  {
   "cell_type": "code",
   "execution_count": 5,
   "metadata": {},
   "outputs": [
    {
     "data": {
      "text/plain": [
       "[{'color_name': 'Black', 'color_code': '#000000'},\n",
       " {'color_name': 'Red', 'color_code': '#FF0000'},\n",
       " {'color_name': 'Maroon', 'color_code': '#800000'},\n",
       " {'color_name': 'Yellow', 'color_code': '#FFFF00'}]"
      ]
     },
     "execution_count": 5,
     "metadata": {},
     "output_type": "execute_result"
    }
   ],
   "source": [
    "l= [\"Black\", \"Red\", \"Maroon\", \"Yellow\"]\n",
    "v= [\"#000000\", \"#FF0000\", \"#800000\", \"#FFFF00\"]\n",
    "l1=[]\n",
    "for i in range(4):\n",
    "  l1.append({\"color_name\":l[i],'color_code':v[i]})\n",
    "l1"
   ]
  },
  {
   "cell_type": "markdown",
   "metadata": {},
   "source": [
    "Q. 5 We have following information on Employees and their Salary (Salary is in lakhs),\n",
    "Employee Salary\n",
    "John 14\n",
    "Smith 13\n",
    "Alice 32\n",
    "Daneil 21\n",
    "\n",
    "Using above create a dictionary of Employees and their Salary Write a program that asks user for three type of inputs, print: if user enter print then it should print all Employees with their Salary in this format, John ==>14 Smith ==>13 Alice ==>32 Daneil ==>21\n",
    "add: if user input adds then it should further ask for an Employee name to add. If Employee already exists in our dataset then it should print that it exists and do nothing. If it doesn't then it asks for Salary and add that new Employee/Salary in our dictionary and print it\n",
    "remove: when user inputs remove it should ask for an Employee to remove. If an Employee exists in our dictionary then remove it and print a new dictionary using format shown above in (a). Else print that Employee doesn't exist!\n",
    "query: on this again ask the user for which Employee he or she wants to query. When a user inputs that Employee it will print the Salary of that Employee."
   ]
  },
  {
   "cell_type": "code",
   "execution_count": 6,
   "metadata": {},
   "outputs": [
    {
     "name": "stdout",
     "output_type": "stream",
     "text": [
      "\n",
      " print \n",
      "add \n",
      " remove \n",
      " query\n",
      " Enter your option :print\n",
      "Rutvi ====> 20\n",
      "Harshil ====> 19\n",
      "Aman ====> 21\n",
      "kuldeep ====> 23\n",
      "rutva ====> 23\n"
     ]
    }
   ],
   "source": [
    "d = {\"Rutvi\":20, \"Harshil\": 19, \"Aman\": 21, \"kuldeep\": 23, \"rutva\":23}\n",
    "inp = input(\"\\n print \\nadd \\n remove \\n query\\n Enter your option :\")\n",
    "\n",
    "if inp==\"print\":\n",
    "  for i,j in d.items():\n",
    "    print(i,\"====>\",j)\n",
    "\n",
    "elif inp==\"add\":\n",
    "  name=input(\"name : \")\n",
    "  if name in d.keys():\n",
    "    print(\"already exist\")\n",
    "  else:\n",
    "    d[name]=int(input(\"salary :\"))\n",
    "elif inp==\"remove\":\n",
    "  name=input(\"name : \")\n",
    "  if name not in d.keys():\n",
    "    print(\"not exist\")\n",
    "  else:\n",
    "    d.pop(name)\n",
    "    for i,j in d.items():\n",
    "      print(i,\"====>\",j)\n",
    "elif inp==\"query\":\n",
    "  name=input(\"name : \")\n",
    "  if name not in d.keys():\n",
    "    print(\"not exist\")\n",
    "  else:\n",
    "    print(d[name])\n"
   ]
  },
  {
   "cell_type": "markdown",
   "metadata": {},
   "source": [
    "Questions on Sets-\n",
    "Q.1 What is the difference between a set and a frozenset? Create any set and try to use frozenset(setname)\n",
    "\n",
    "Frozen set is just an immutable version of a Python set object. While elements of a set can be modified at any time, elements of the frozen set remain the same after creation."
   ]
  },
  {
   "cell_type": "code",
   "execution_count": 7,
   "metadata": {},
   "outputs": [
    {
     "name": "stdout",
     "output_type": "stream",
     "text": [
      "<class 'set'>\n",
      "{1, 2, 3, 4, 5}\n",
      "<class 'frozenset'>\n"
     ]
    },
    {
     "ename": "AttributeError",
     "evalue": "'frozenset' object has no attribute 'add'",
     "output_type": "error",
     "traceback": [
      "\u001b[1;31m---------------------------------------------------------------------------\u001b[0m",
      "\u001b[1;31mAttributeError\u001b[0m                            Traceback (most recent call last)",
      "\u001b[1;32m<ipython-input-7-c8cc36b43f53>\u001b[0m in \u001b[0;36m<module>\u001b[1;34m\u001b[0m\n\u001b[0;32m      5\u001b[0m \u001b[0ms1\u001b[0m\u001b[1;33m=\u001b[0m\u001b[0mfrozenset\u001b[0m\u001b[1;33m(\u001b[0m\u001b[0ms\u001b[0m\u001b[1;33m)\u001b[0m \u001b[1;31m#typecasting set into frozenset\u001b[0m\u001b[1;33m\u001b[0m\u001b[1;33m\u001b[0m\u001b[0m\n\u001b[0;32m      6\u001b[0m \u001b[0mprint\u001b[0m\u001b[1;33m(\u001b[0m\u001b[0mtype\u001b[0m\u001b[1;33m(\u001b[0m\u001b[0ms1\u001b[0m\u001b[1;33m)\u001b[0m\u001b[1;33m)\u001b[0m \u001b[1;31m#frozenset\u001b[0m\u001b[1;33m\u001b[0m\u001b[1;33m\u001b[0m\u001b[0m\n\u001b[1;32m----> 7\u001b[1;33m \u001b[0ms1\u001b[0m\u001b[1;33m.\u001b[0m\u001b[0madd\u001b[0m\u001b[1;33m(\u001b[0m\u001b[1;36m5\u001b[0m\u001b[1;33m)\u001b[0m\u001b[1;33m\u001b[0m\u001b[1;33m\u001b[0m\u001b[0m\n\u001b[0m",
      "\u001b[1;31mAttributeError\u001b[0m: 'frozenset' object has no attribute 'add'"
     ]
    }
   ],
   "source": [
    "s={1,2,2,3,4}\n",
    "print(type(s)) #set\n",
    "s.add(5)\n",
    "print(s)\n",
    "s1=frozenset(s) #typecasting set into frozenset\n",
    "print(type(s1)) #frozenset\n",
    "s1.add(5)      #as it is imutable we can't modify it"
   ]
  },
  {
   "cell_type": "markdown",
   "metadata": {},
   "source": [
    "Q.2 Find the elements in a given set that are not in another set"
   ]
  },
  {
   "cell_type": "code",
   "execution_count": 8,
   "metadata": {},
   "outputs": [],
   "source": [
    "set1 = {10,20,30,40,50}\n",
    "\n",
    "set2 = {40,50,60,70,80}"
   ]
  },
  {
   "cell_type": "code",
   "execution_count": 9,
   "metadata": {},
   "outputs": [
    {
     "name": "stdout",
     "output_type": "stream",
     "text": [
      "difference bwtween set1 and 2 is {10, 20, 30}\n"
     ]
    }
   ],
   "source": [
    "print(\"difference bwtween set1 and 2 is\",set1.difference(set2))"
   ]
  },
  {
   "cell_type": "code",
   "execution_count": null,
   "metadata": {},
   "outputs": [],
   "source": []
  }
 ],
 "metadata": {
  "kernelspec": {
   "display_name": "Python 3",
   "language": "python",
   "name": "python3"
  },
  "language_info": {
   "codemirror_mode": {
    "name": "ipython",
    "version": 3
   },
   "file_extension": ".py",
   "mimetype": "text/x-python",
   "name": "python",
   "nbconvert_exporter": "python",
   "pygments_lexer": "ipython3",
   "version": "3.7.4"
  }
 },
 "nbformat": 4,
 "nbformat_minor": 4
}
